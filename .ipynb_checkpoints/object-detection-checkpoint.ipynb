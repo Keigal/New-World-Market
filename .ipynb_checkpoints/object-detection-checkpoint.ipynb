{
 "cells": [
  {
   "cell_type": "code",
   "execution_count": 1,
   "metadata": {},
   "outputs": [],
   "source": [
    "# Using OpenCV template matching to find each individual market line\n",
    "import cv2\n",
    "import numpy as np\n",
    "import pytesseract as tess\n",
    "from PIL import Image as im\n"
   ]
  },
  {
   "cell_type": "code",
   "execution_count": 2,
   "metadata": {},
   "outputs": [],
   "source": [
    "# Importing images\n",
    "market_img = cv2.imread('cache/buy-orders/green_wood.png')\n",
    "order_img = cv2.imread('resources/order_green_wood.png')\n",
    "\n",
    "# Will be filled with images found\n",
    "found_imgs = []"
   ]
  },
  {
   "cell_type": "code",
   "execution_count": 3,
   "metadata": {},
   "outputs": [],
   "source": [
    "# # Display market image for debugging\n",
    "# cv2.imshow('Market', order_img)\n",
    "# cv2.waitKey(0)\n",
    "# cv2.destroyAllWindows()"
   ]
  },
  {
   "cell_type": "code",
   "execution_count": 4,
   "metadata": {},
   "outputs": [],
   "source": [
    "# Seartching for orders in market image\n",
    "\n",
    "# There are 6 comparison methods to choose from:\n",
    "# TM_CCOEFF, TM_CCOEFF_NORMED, TM_CCORR, TM_CCORR_NORMED, TM_SQDIFF, TM_SQDIFF_NORMED\n",
    "# You can see the differences at a glance here:\n",
    "# https://docs.opencv.org/master/d4/dc6/tutorial_py_template_matching.html\n",
    "result = cv2.matchTemplate(market_img, order_img, cv2.TM_CCOEFF_NORMED)"
   ]
  },
  {
   "cell_type": "code",
   "execution_count": 5,
   "metadata": {},
   "outputs": [],
   "source": [
    "# Strictness of matching\n",
    "threshold = 0.75\n",
    "\n",
    "# Size of box to draw around matches\n",
    "w = order_img.shape[1]\n",
    "h = order_img.shape[0]\n",
    "\n",
    "# Drawing a box around all matching objects?\n",
    "yloc, xloc = np.where(result >= threshold)"
   ]
  },
  {
   "cell_type": "code",
   "execution_count": 6,
   "metadata": {},
   "outputs": [],
   "source": [
    "# Drawing box around each found location, also cropping found boxes and adding to found_imgs array\n",
    "for (x, y) in zip(xloc, yloc):\n",
    "    cv2.rectangle(market_img, (x, y), (x + w, y + h), (0,255,255), 2)\n",
    "    found_imgs.append(market_img[y:y+h, x:x+w])"
   ]
  },
  {
   "cell_type": "code",
   "execution_count": 7,
   "metadata": {},
   "outputs": [],
   "source": [
    "# # Showing market image after rectangles are added\n",
    "# cv2.imshow('Market', market_img)\n",
    "# cv2.waitKey(0)\n",
    "# cv2.destroyAllWindows()"
   ]
  },
  {
   "cell_type": "code",
   "execution_count": 8,
   "metadata": {},
   "outputs": [],
   "source": [
    "# # Showing one order from the orders found\n",
    "# cv2.imshow('Order', found_imgs[0])\n",
    "# cv2.waitKey(0)\n",
    "# cv2.destroyAllWindows()"
   ]
  },
  {
   "cell_type": "code",
   "execution_count": 13,
   "metadata": {},
   "outputs": [],
   "source": [
    "# This whole block is temporary to find best methods\n",
    "# Getting df from a single image within found images\n",
    "\n",
    "# Changing data type from array to PIL Image object\n",
    "temp_image = im.fromarray(found_imgs[3])\n",
    "\n",
    "# Getting the size of the current object\n",
    "w, h = temp_image.size\n",
    "\n",
    "# Upscaling the image at same aspect ratio to improve tesseract accuracy\n",
    "w *= 2\n",
    "h *= 2\n",
    "\n",
    "# Creating tuple that must be passed into resize function\n",
    "newsize = (w, h)\n",
    "\n",
    "# Resizing image using Bicubic upscaling\n",
    "# https://pillow.readthedocs.io/en/stable/handbook/concepts.html#PIL.Image.BICUBIC\n",
    "temp_image = temp_image.resize(newsize, resample=3)\n",
    "\n",
    "# Extracting text from upscaled image\n",
    "text_df = tess.image_to_data(temp_image, output_type=tess.Output.DATAFRAME)\n",
    "\n",
    "# Dropping any rows with a null value extracted\n",
    "text_df = text_df.dropna()\n"
   ]
  },
  {
   "cell_type": "code",
   "execution_count": 16,
   "metadata": {
    "scrolled": true
   },
   "outputs": [],
   "source": [
    "# Iterates through each found image and reads image.\n",
    "\n",
    "for img in found_imgs:\n",
    "    \n",
    "    # Changing data type from array to PIL Image object\n",
    "    img = im.fromarray(img)\n",
    "\n",
    "    # Getting the size of the current object\n",
    "    w, h = img.size\n",
    "\n",
    "    # Upscaling the image at same aspect ratio to improve tesseract accuracy\n",
    "    w *= 2\n",
    "    h *= 2\n",
    "\n",
    "    # Creating tuple that must be passed into resize function\n",
    "    newsize = (w, h)\n",
    "\n",
    "    # Resizing image using Bicubic upscaling\n",
    "    # https://pillow.readthedocs.io/en/stable/handbook/concepts.html#PIL.Image.BICUBIC\n",
    "    img = img.resize(newsize, resample=3)\n",
    "\n",
    "    # Extracting text from upscaled image\n",
    "    text_df = tess.image_to_data(img, output_type=tess.Output.DATAFRAME)\n",
    "\n",
    "    # Dropping any rows with a null value extracted\n",
    "    text_df = text_df.dropna()\n"
   ]
  },
  {
   "cell_type": "code",
   "execution_count": null,
   "metadata": {},
   "outputs": [],
   "source": []
  }
 ],
 "metadata": {
  "interpreter": {
   "hash": "054c0128ae785496ec715fe55dc407401ac17e534a17f921fadf0b2704e9e719"
  },
  "kernelspec": {
   "display_name": "Python 3 (ipykernel)",
   "language": "python",
   "name": "python3"
  },
  "language_info": {
   "codemirror_mode": {
    "name": "ipython",
    "version": 3
   },
   "file_extension": ".py",
   "mimetype": "text/x-python",
   "name": "python",
   "nbconvert_exporter": "python",
   "pygments_lexer": "ipython3",
   "version": "3.7.11"
  }
 },
 "nbformat": 4,
 "nbformat_minor": 4
}
