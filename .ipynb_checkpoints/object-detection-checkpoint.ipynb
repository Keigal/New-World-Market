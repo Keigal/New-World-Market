{
 "cells": [
  {
   "cell_type": "code",
   "execution_count": 1,
   "metadata": {},
   "outputs": [],
   "source": [
    "# Using OpenCV template matching to find each individual market line\n",
    "import cv2\n",
    "import numpy as np\n",
    "import pytesseract as tess\n",
    "from PIL import Image as im\n"
   ]
  },
  {
   "cell_type": "code",
   "execution_count": 2,
   "metadata": {},
   "outputs": [],
   "source": [
    "# Importing images\n",
    "market_img = cv2.imread('cache/buy-orders/green_wood.png')\n",
    "order_img = cv2.imread('resources/order_green_wood.png')\n",
    "\n",
    "# Will be filled with images found\n",
    "found_imgs = []"
   ]
  },
  {
   "cell_type": "code",
   "execution_count": 3,
   "metadata": {},
   "outputs": [],
   "source": [
    "# # Display market image for debugging\n",
    "# cv2.imshow('Market', order_img)\n",
    "# cv2.waitKey(0)\n",
    "# cv2.destroyAllWindows()"
   ]
  },
  {
   "cell_type": "code",
   "execution_count": 4,
   "metadata": {},
   "outputs": [],
   "source": [
    "# Seartching for orders in market image\n",
    "\n",
    "# There are 6 comparison methods to choose from:\n",
    "# TM_CCOEFF, TM_CCOEFF_NORMED, TM_CCORR, TM_CCORR_NORMED, TM_SQDIFF, TM_SQDIFF_NORMED\n",
    "# You can see the differences at a glance here:\n",
    "# https://docs.opencv.org/master/d4/dc6/tutorial_py_template_matching.html\n",
    "result = cv2.matchTemplate(market_img, order_img, cv2.TM_CCOEFF_NORMED)"
   ]
  },
  {
   "cell_type": "code",
   "execution_count": 5,
   "metadata": {},
   "outputs": [],
   "source": [
    "# Strictness of matching\n",
    "threshold = 0.75\n",
    "\n",
    "# Size of box to draw around matches\n",
    "w = order_img.shape[1]\n",
    "h = order_img.shape[0]\n",
    "\n",
    "# Drawing a box around all matching objects?\n",
    "yloc, xloc = np.where(result >= threshold)"
   ]
  },
  {
   "cell_type": "code",
   "execution_count": 6,
   "metadata": {},
   "outputs": [],
   "source": [
    "# Drawing box around each found location, also cropping found boxes and adding to found_imgs array\n",
    "for (x, y) in zip(xloc, yloc):\n",
    "    cv2.rectangle(market_img, (x, y), (x + w, y + h), (0,255,255), 2)\n",
    "    found_imgs.append(market_img[y:y+h, x:x+w])"
   ]
  },
  {
   "cell_type": "code",
   "execution_count": 7,
   "metadata": {},
   "outputs": [],
   "source": [
    "# # Showing market image after rectangles are added\n",
    "# cv2.imshow('Market', market_img)\n",
    "# cv2.waitKey(0)\n",
    "# cv2.destroyAllWindows()"
   ]
  },
  {
   "cell_type": "code",
   "execution_count": 8,
   "metadata": {},
   "outputs": [],
   "source": [
    "# # Showing one order from the orders found\n",
    "# cv2.imshow('Order', found_imgs[0])\n",
    "# cv2.waitKey(0)\n",
    "# cv2.destroyAllWindows()"
   ]
  },
  {
   "cell_type": "code",
   "execution_count": 9,
   "metadata": {},
   "outputs": [
    {
     "ename": "IndexError",
     "evalue": "list index out of range",
     "output_type": "error",
     "traceback": [
      "\u001b[1;31m---------------------------------------------------------------------------\u001b[0m",
      "\u001b[1;31mIndexError\u001b[0m                                Traceback (most recent call last)",
      "\u001b[1;32m<ipython-input-9-f8f9f2104aaa>\u001b[0m in \u001b[0;36m<module>\u001b[1;34m\u001b[0m\n\u001b[0;32m      3\u001b[0m \u001b[1;33m\u001b[0m\u001b[0m\n\u001b[0;32m      4\u001b[0m \u001b[1;31m# Changing data type from array to PIL Image object\u001b[0m\u001b[1;33m\u001b[0m\u001b[1;33m\u001b[0m\u001b[1;33m\u001b[0m\u001b[0m\n\u001b[1;32m----> 5\u001b[1;33m \u001b[0mtemp_image\u001b[0m \u001b[1;33m=\u001b[0m \u001b[0mim\u001b[0m\u001b[1;33m.\u001b[0m\u001b[0mfromarray\u001b[0m\u001b[1;33m(\u001b[0m\u001b[0mfound_imgs\u001b[0m\u001b[1;33m[\u001b[0m\u001b[1;36m3\u001b[0m\u001b[1;33m]\u001b[0m\u001b[1;33m)\u001b[0m\u001b[1;33m\u001b[0m\u001b[1;33m\u001b[0m\u001b[0m\n\u001b[0m\u001b[0;32m      6\u001b[0m \u001b[1;33m\u001b[0m\u001b[0m\n\u001b[0;32m      7\u001b[0m \u001b[1;31m# Getting the size of the current object\u001b[0m\u001b[1;33m\u001b[0m\u001b[1;33m\u001b[0m\u001b[1;33m\u001b[0m\u001b[0m\n",
      "\u001b[1;31mIndexError\u001b[0m: list index out of range"
     ]
    }
   ],
   "source": [
    "# This whole block is temporary to find best methods\n",
    "# Getting df from a single image within found images\n",
    "\n",
    "# Changing data type from array to PIL Image object\n",
    "temp_image = im.fromarray(found_imgs[3])\n",
    "\n",
    "# Getting the size of the current object\n",
    "w, h = temp_image.size\n",
    "\n",
    "# Upscaling the image at same aspect ratio to improve tesseract accuracy\n",
    "w *= 2\n",
    "h *= 2\n",
    "\n",
    "# Creating tuple that must be passed into resize function\n",
    "newsize = (w, h)\n",
    "\n",
    "# Resizing image using Bicubic upscaling\n",
    "# https://pillow.readthedocs.io/en/stable/handbook/concepts.html#PIL.Image.BICUBIC\n",
    "temp_image = temp_image.resize(newsize, resample=3)\n",
    "\n",
    "# Extracting text from upscaled image\n",
    "text_df = tess.image_to_data(temp_image, output_type=tess.Output.DATAFRAME)\n",
    "\n",
    "# What to do with that text\n",
    "text_df = text_df.drop(columns=['page_num'])\n",
    "\n",
    "# Dropping any rows with a null value extracted\n",
    "text_df = text_df.dropna()\n",
    "\n",
    "text_df\n"
   ]
  },
  {
   "cell_type": "code",
   "execution_count": null,
   "metadata": {},
   "outputs": [],
   "source": [
    "# This whole block is temporary to find best methods\n",
    "# Getting df from a single image within found images\n",
    "# Duplicate of above block, used to compare found data\n",
    "\n",
    "# Changing data type from array to PIL Image object\n",
    "temp_image = im.fromarray(found_imgs[8])\n",
    "\n",
    "# Getting the size of the current object\n",
    "w, h = temp_image.size\n",
    "\n",
    "# Upscaling the image at same aspect ratio to improve tesseract accuracy\n",
    "w *= 2\n",
    "h *= 2\n",
    "\n",
    "# Creating tuple that must be passed into resize function\n",
    "newsize = (w, h)\n",
    "\n",
    "# Resizing image using Bicubic upscaling\n",
    "# https://pillow.readthedocs.io/en/stable/handbook/concepts.html#PIL.Image.BICUBIC\n",
    "temp_image = temp_image.resize(newsize, resample=3)\n",
    "\n",
    "# Extracting text from upscaled image\n",
    "text_df2 = tess.image_to_data(temp_image, output_type=tess.Output.DATAFRAME)\n",
    "\n",
    "# What to do with that text\n",
    "text_df2 = text_df2.drop(columns=['page_num'])\n",
    "\n",
    "# Dropping any rows with a null value extracted\n",
    "text_df2 = text_df2.dropna()\n",
    "\n",
    "text_df2"
   ]
  },
  {
   "cell_type": "code",
   "execution_count": null,
   "metadata": {},
   "outputs": [],
   "source": [
    "# The prices seems to always correlate with the left value being 817.\n",
    "# This may be a problematic solution, but I believe if the pixel value of the images stay consistent so will this value.\n",
    "\n",
    "price = text_df2.loc[text_df2['left'] == 817, ['text']]\n",
    "\n",
    "price = float(price.iat[0, 0])\n",
    "\n",
    "price\n",
    "\n"
   ]
  },
  {
   "cell_type": "code",
   "execution_count": null,
   "metadata": {
    "scrolled": true
   },
   "outputs": [],
   "source": [
    "# Iterates through each found image and reads image.\n",
    "\n",
    "prices = []\n",
    "\n",
    "for img in found_imgs:\n",
    "    \n",
    "    # Changing data type from array to PIL Image object\n",
    "    img = im.fromarray(img)\n",
    "\n",
    "    # Getting the size of the current object\n",
    "    w, h = img.size\n",
    "\n",
    "    # Upscaling the image at same aspect ratio to improve tesseract accuracy\n",
    "    w *= 2\n",
    "    h *= 2\n",
    "\n",
    "    # Creating tuple that must be passed into resize function\n",
    "    newsize = (w, h)\n",
    "\n",
    "    # Resizing image using Bicubic upscaling\n",
    "    # https://pillow.readthedocs.io/en/stable/handbook/concepts.html#PIL.Image.BICUBIC\n",
    "    img = img.resize(newsize, resample=3)\n",
    "\n",
    "    # Extracting text from upscaled image\n",
    "    text_df = tess.image_to_data(img, output_type=tess.Output.DATAFRAME)\n",
    "    \n",
    "    # Extracting price from the dataframe\n",
    "    price = text_df.loc[text_df['left'] == 817, ['text']]\n",
    "    \n",
    "    # Takes extracted price and converts from dataframe to float\n",
    "    price = float(price.iat[0, 0])\n",
    "    \n",
    "    # Adding found price to list of prices\n",
    "    prices.append(price)\n",
    "\n",
    "    # Dropping any rows with a null value extracted\n",
    "    text_df = text_df.dropna()\n"
   ]
  },
  {
   "cell_type": "code",
   "execution_count": null,
   "metadata": {},
   "outputs": [],
   "source": [
    "prices"
   ]
  },
  {
   "cell_type": "code",
   "execution_count": null,
   "metadata": {},
   "outputs": [],
   "source": []
  },
  {
   "cell_type": "code",
   "execution_count": null,
   "metadata": {},
   "outputs": [],
   "source": []
  }
 ],
 "metadata": {
  "interpreter": {
   "hash": "054c0128ae785496ec715fe55dc407401ac17e534a17f921fadf0b2704e9e719"
  },
  "kernelspec": {
   "display_name": "Python 3",
   "language": "python",
   "name": "python3"
  },
  "language_info": {
   "codemirror_mode": {
    "name": "ipython",
    "version": 3
   },
   "file_extension": ".py",
   "mimetype": "text/x-python",
   "name": "python",
   "nbconvert_exporter": "python",
   "pygments_lexer": "ipython3",
   "version": "3.8.5"
  }
 },
 "nbformat": 4,
 "nbformat_minor": 4
}
